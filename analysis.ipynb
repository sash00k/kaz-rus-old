{
 "cells": [
  {
   "cell_type": "code",
   "execution_count": 1,
   "id": "cf280826",
   "metadata": {
    "scrolled": false
   },
   "outputs": [],
   "source": [
    "import sys\n",
    "from pathlib import Path\n",
    "notebook_dir_listlike = !echo %cd%\n",
    "project_path = str(Path(notebook_dir_listlike[0]).parent.absolute().parent.absolute())\n",
    "sys.path.insert(0, project_path) if project_path not in sys.path else print('Project path is already in your PATH')"
   ]
  },
  {
   "cell_type": "code",
   "execution_count": 2,
   "id": "8ba55f60",
   "metadata": {},
   "outputs": [],
   "source": [
    "import pandas as pd\n",
    "import seaborn as sns\n",
    "from src.visualization.get_samples import get as get_samples"
   ]
  },
  {
   "cell_type": "code",
   "execution_count": 3,
   "id": "80241459",
   "metadata": {},
   "outputs": [],
   "source": [
    "data = pd.read_csv('../data/processed/splited_atleast4.csv', encoding='utf8')"
   ]
  },
  {
   "cell_type": "markdown",
   "id": "0354732e",
   "metadata": {},
   "source": [
    "Была написана функция, которая считает долю токенов, имеющих специфически казахские символы (а также некоторые символы латиницы типа 'i'). С помощью нее можно хоть как-то оценить долю русских/казахских слов в тексте."
   ]
  },
  {
   "cell_type": "code",
   "execution_count": 4,
   "id": "3cc0f4b1",
   "metadata": {},
   "outputs": [
    {
     "data": {
      "text/html": [
       "<div>\n",
       "<style scoped>\n",
       "    .dataframe tbody tr th:only-of-type {\n",
       "        vertical-align: middle;\n",
       "    }\n",
       "\n",
       "    .dataframe tbody tr th {\n",
       "        vertical-align: top;\n",
       "    }\n",
       "\n",
       "    .dataframe thead th {\n",
       "        text-align: right;\n",
       "    }\n",
       "</style>\n",
       "<table border=\"1\" class=\"dataframe\">\n",
       "  <thead>\n",
       "    <tr style=\"text-align: right;\">\n",
       "      <th></th>\n",
       "      <th>group</th>\n",
       "      <th>group_type</th>\n",
       "      <th>text_type</th>\n",
       "      <th>text</th>\n",
       "      <th>words_count</th>\n",
       "      <th>kz_words_count</th>\n",
       "      <th>percentage</th>\n",
       "    </tr>\n",
       "  </thead>\n",
       "  <tbody>\n",
       "    <tr>\n",
       "      <th>0</th>\n",
       "      <td>asyl_arna</td>\n",
       "      <td>news</td>\n",
       "      <td>p</td>\n",
       "      <td>Қыздарды елең еткізетін тақырып</td>\n",
       "      <td>4</td>\n",
       "      <td>4</td>\n",
       "      <td>1.000000</td>\n",
       "    </tr>\n",
       "    <tr>\n",
       "      <th>1</th>\n",
       "      <td>asyl_arna</td>\n",
       "      <td>news</td>\n",
       "      <td>p</td>\n",
       "      <td>Дегенмен, бүгінгі күні көп қыздың ең бір жанд...</td>\n",
       "      <td>18</td>\n",
       "      <td>13</td>\n",
       "      <td>0.722222</td>\n",
       "    </tr>\n",
       "    <tr>\n",
       "      <th>2</th>\n",
       "      <td>asyl_arna</td>\n",
       "      <td>news</td>\n",
       "      <td>p</td>\n",
       "      <td>Неге жанды жеріне тиеді</td>\n",
       "      <td>4</td>\n",
       "      <td>2</td>\n",
       "      <td>0.500000</td>\n",
       "    </tr>\n",
       "    <tr>\n",
       "      <th>3</th>\n",
       "      <td>asyl_arna</td>\n",
       "      <td>news</td>\n",
       "      <td>p</td>\n",
       "      <td>Онда тұрған не бар</td>\n",
       "      <td>4</td>\n",
       "      <td>1</td>\n",
       "      <td>0.250000</td>\n",
       "    </tr>\n",
       "    <tr>\n",
       "      <th>4</th>\n",
       "      <td>asyl_arna</td>\n",
       "      <td>news</td>\n",
       "      <td>p</td>\n",
       "      <td>Бұны айтпас бұрын алдымен бұл тақырыпты неге ...</td>\n",
       "      <td>27</td>\n",
       "      <td>15</td>\n",
       "      <td>0.555556</td>\n",
       "    </tr>\n",
       "  </tbody>\n",
       "</table>\n",
       "</div>"
      ],
      "text/plain": [
       "       group group_type text_type  \\\n",
       "0  asyl_arna       news         p   \n",
       "1  asyl_arna       news         p   \n",
       "2  asyl_arna       news         p   \n",
       "3  asyl_arna       news         p   \n",
       "4  asyl_arna       news         p   \n",
       "\n",
       "                                                text  words_count  \\\n",
       "0                    Қыздарды елең еткізетін тақырып            4   \n",
       "1   Дегенмен, бүгінгі күні көп қыздың ең бір жанд...           18   \n",
       "2                            Неге жанды жеріне тиеді            4   \n",
       "3                                 Онда тұрған не бар            4   \n",
       "4   Бұны айтпас бұрын алдымен бұл тақырыпты неге ...           27   \n",
       "\n",
       "   kz_words_count  percentage  \n",
       "0               4    1.000000  \n",
       "1              13    0.722222  \n",
       "2               2    0.500000  \n",
       "3               1    0.250000  \n",
       "4              15    0.555556  "
      ]
     },
     "execution_count": 4,
     "metadata": {},
     "output_type": "execute_result"
    }
   ],
   "source": [
    "data.head()"
   ]
  },
  {
   "cell_type": "markdown",
   "id": "be10530b",
   "metadata": {},
   "source": [
    "Ясно, что часто казахские слова записываются с помощью исключительно кириллической азбуки, такие случаи проходят мимо такого простого детектора. Также он ложно распознает многие англоязычные слова как казахские.\n",
    "\n",
    "Так выглядит распределение доли казахских слов в текстах:"
   ]
  },
  {
   "cell_type": "code",
   "execution_count": 5,
   "id": "15df9d0d",
   "metadata": {},
   "outputs": [
    {
     "data": {
      "image/png": "[encoded data removed]",
      "text/plain": [
       "<Figure size 360x360 with 1 Axes>"
      ]
     },
     "metadata": {
      "needs_background": "light"
     },
     "output_type": "display_data"
    }
   ],
   "source": [
    "sns.displot(data, x='percentage', bins=20);"
   ]
  },
  {
   "cell_type": "markdown",
   "id": "51ca70ee",
   "metadata": {},
   "source": [
    "Отбросим пока чисто казахские и чисто русские тексты.\n",
    "\n",
    "При этом важно понимать, что целевой класс, содержащий предложения, с существенной долей настоящих русских слов, но при этом не состоящий только из них, в основном лежит именно в категории с долей казахских слов, равной 0.00\n",
    "\n",
    "Но для качественно его выявления надо вводить какую-то принципиально новую метрику оценки кол-ва казахских слов. В идеале эта метрика должны быть усточива к образованию казахских слов от русских добавлением суффиксов и приставок. Есть идея, как это можно сделать, это должно дать хороший прирост качества отделения русских слов от казахских."
   ]
  },
  {
   "cell_type": "code",
   "execution_count": 6,
   "id": "42e976c7",
   "metadata": {},
   "outputs": [
    {
     "data": {
      "image/png": "[encoded data removed]",
      "text/plain": [
       "<Figure size 360x360 with 1 Axes>"
      ]
     },
     "metadata": {
      "needs_background": "light"
     },
     "output_type": "display_data"
    }
   ],
   "source": [
    "sns.displot(data[(data['percentage']!=0) & (data['percentage']!=1)], x='percentage', bins=20);"
   ]
  },
  {
   "cell_type": "markdown",
   "id": "9b512bd4",
   "metadata": {},
   "source": [
    "Видно, что некоторые конкретные проценты превалируют над другими. Особенно это заметно при большем количествые отрезков разбиения.\n",
    "\n",
    "Связано это скорее всего с тем, что в масее своей тексты имеют небольую длину. Ниже приведено распределение кол-ва текстов (с <100 слов) от длины слов. При том, что из датасета уже выброшены все тексты короче 4 слов, некоторые конкертные значения доли казахских слов буду встречаться сильно чаще, т.к. подавляющее множество дробей имеют небольше множество значений знаменателя и числителя."
   ]
  },
  {
   "cell_type": "code",
   "execution_count": 7,
   "id": "8d5f774b",
   "metadata": {},
   "outputs": [
    {
     "data": {
      "image/png": "[encoded data removed]",
      "text/plain": [
       "<Figure size 360x360 with 1 Axes>"
      ]
     },
     "metadata": {
      "needs_background": "light"
     },
     "output_type": "display_data"
    }
   ],
   "source": [
    "sns.displot(data[data['words_count']<100], x='words_count', bins=20);"
   ]
  },
  {
   "cell_type": "code",
   "execution_count": 8,
   "id": "41f3d59c",
   "metadata": {},
   "outputs": [],
   "source": [
    "# эта функция возвращает случайный список текстов из датасета \n",
    "samples = get_samples(df=data,             # датасет\n",
    "                      del_only_kz=True,    # удалять ли из выборки чисто казахские тексты\n",
    "                      del_only_ru=True,    # удалять ли из выборки чисто русские тексты\n",
    "                      quantiles_count=100, # количество квантилей выборки\n",
    "                      items_in_quantile=1) # количество текстов из каждого квантиля"
   ]
  },
  {
   "cell_type": "markdown",
   "id": "18d0a479",
   "metadata": {},
   "source": [
    "Тексты я сохранил для дальнейшей разметки под Sentimental Analysis в отдельный файл. Его я переводил через переводчик яндекса, и потом отправлю на классификацию это уже обученной на русскоязычный sentimental analysis модели (такая есть в Keras).\n",
    "\n",
    "Сейчас размечать вручную, мне кажется, пока не стоит, потому что все еще есть мусорные тексты, и главное, что с такой простой оценкой доли казахских слов теряется очень много \"хороших\" текстов именно на смешанном языке. Тем более если это будет самая такая отложенная выборка, которая сохранится до конца работы над проектом.\n",
    "\n",
    "Хочу сейчас привести проект в нормальный вид, с которым удобно работать. Затем надо будет почистить тексты и написать более качественный алгортим оценки доли казахских слов. На этих данных уже можно будет пробовать строить языковую модель, которую можно сравнивать в решении той же задачи анализа тональности текста с готовыми русскоязычными моделями, примененными к переведенным текстам того же датасета."
   ]
  }
 ],
 "metadata": {
  "kernelspec": {
   "display_name": "Python 3 (ipykernel)",
   "language": "python",
   "name": "python3"
  },
  "language_info": {
   "codemirror_mode": {
    "name": "ipython",
    "version": 3
   },
   "file_extension": ".py",
   "mimetype": "text/x-python",
   "name": "python",
   "nbconvert_exporter": "python",
   "pygments_lexer": "ipython3",
   "version": "3.10.2"
  }
 },
 "nbformat": 4,
 "nbformat_minor": 5
}
